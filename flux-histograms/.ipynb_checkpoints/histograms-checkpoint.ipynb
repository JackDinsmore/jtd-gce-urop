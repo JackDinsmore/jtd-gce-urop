{
 "cells": [
  {
   "cell_type": "markdown",
   "metadata": {},
   "source": [
    "# View Fermilab histograms"
   ]
  },
  {
   "cell_type": "code",
   "execution_count": 7,
   "metadata": {},
   "outputs": [],
   "source": [
    "import matplotlib.pyplot as plt\n",
    "import numpy as np\n",
    "import pandas as pd\n",
    "from astropy.io import fits\n",
    "import numpy as np\n",
    "from matplotlib import pyplot as plt\n",
    "\n",
    "plt.style.use('jcap')\n",
    "\n",
    "DIST_FROM_GALACTIC_CENTER_KILOPARSEC = 8.5\n",
    "CM_PER_KILOPARSEC = 3.086e21\n",
    "PI = 3.1415926535\n",
    "\n",
    "# Catalog documented here:\n",
    "# https://fermi.gsfc.nasa.gov/ssc/data/access/lat/8yr_catalog/4FGL_Catalog_submit.pdf"
   ]
  },
  {
   "cell_type": "code",
   "execution_count": 8,
   "metadata": {},
   "outputs": [
    {
     "name": "stdout",
     "output_type": "stream",
     "text": [
      "110\n",
      "7\n",
      "287\n"
     ]
    }
   ],
   "source": [
    "def load_file(fname, table=None):\n",
    "    names = []\n",
    "    f = open(fname, 'r')\n",
    "    for l in f.readlines():\n",
    "        if l == '':\n",
    "            return\n",
    "        if l[0] == '#':\n",
    "            continue\n",
    "        assert(l[0] == '[')\n",
    "        _, _, _, _, name = l[1:-2].split(', ')\n",
    "        name = name[2:-1]\n",
    "        while name[-1] == \" \":\n",
    "            name = name[:-1]\n",
    "        \n",
    "        already_included = False\n",
    "        if table is not None:\n",
    "            for name2 in table[\"Source_Name\"]:\n",
    "                if name2 == name:\n",
    "                    already_included = True\n",
    "                    break\n",
    "        if not already_included:\n",
    "            names.append(name)\n",
    "        \n",
    "    return pd.DataFrame(data=np.asarray([names]).transpose(),\n",
    "                        columns=('Source_Name',))\n",
    "\n",
    "def load_dist_file(filename):\n",
    "    names = []\n",
    "    glons = []\n",
    "    glats = []\n",
    "    dists = []\n",
    "    galact_cent_dists = []\n",
    "    distDMs = []\n",
    "    \n",
    "    f = open(filename)\n",
    "    for line in f.readlines():\n",
    "        if line == '\\n' or line == '':\n",
    "            continue\n",
    "        entries = line.split(' ')\n",
    "        if '*' in entries: continue\n",
    "        while '' in entries: entries.remove('')\n",
    "        number, name, _, glon, glat, dist, distDM, _, z, x, y = entries\n",
    "        galact_cent_dist = np.sqrt(float(z)**2 + float(y)**2 + float(x)**2)\n",
    "        if galact_cent_dist > 2:\n",
    "            names.append(name)\n",
    "            glons.append(float(glon))\n",
    "            glats.append(float(glat))\n",
    "            dists.append(float(dist))\n",
    "            galact_cent_dists.append(galact_cent_dist)\n",
    "            distDMs.append(float(distDM))\n",
    "    f.close()\n",
    "    \n",
    "    names = np.asarray(names)\n",
    "    dists = np.asarray(galact_cent_dists)\n",
    "    distDMs = np.asarray(distDMs)\n",
    "    return pd.DataFrame(data={\"Source_Name\": names, \"GLON\":glons, \"GLAT\":glats, \"Dist\": dists, \"DistDM\": distDMs})\n",
    "        \n",
    "fermi_data = load_file(\"data/Fermi_front_only_4FGL_peak_identification_within_20_deg_search_.3_deg.txt\");\n",
    "fermi_data_extra = load_file(\"data/Fermi_front_only_4FGL_peak_identification_within_20_deg_search_.55_deg.txt\", fermi_data);\n",
    "distances = load_dist_file(\"data/known-pulsars.txt\")\n",
    "\n",
    "print(len(fermi_data))\n",
    "print(len(fermi_data_extra))\n",
    "print(len(distances))"
   ]
  },
  {
   "cell_type": "code",
   "execution_count": 9,
   "metadata": {},
   "outputs": [
    {
     "name": "stdout",
     "output_type": "stream",
     "text": [
      "['' '' 'B3 2358+474' ... 'TXS 2356-210' '' 'NVSS J000008-373819']\n",
      "ColDefs(\n",
      "    name = 'Source_Name'; format = '18A'\n",
      "    name = 'DataRelease'; format = 'I'; null = 16959\n",
      "    name = 'RAJ2000'; format = 'E'; unit = 'deg'; disp = 'F8.4'\n",
      "    name = 'DEJ2000'; format = 'E'; unit = 'deg'; disp = 'F8.4'\n",
      "    name = 'GLON'; format = 'E'; unit = 'deg'; disp = 'F8.4'\n",
      "    name = 'GLAT'; format = 'E'; unit = 'deg'; disp = 'F8.4'\n",
      "    name = 'Conf_68_SemiMajor'; format = 'E'; unit = 'deg'; disp = 'F8.4'\n",
      "    name = 'Conf_68_SemiMinor'; format = 'E'; unit = 'deg'; disp = 'F8.4'\n",
      "    name = 'Conf_68_PosAng'; format = 'E'; unit = 'deg'; disp = 'F8.3'\n",
      "    name = 'Conf_95_SemiMajor'; format = 'E'; unit = 'deg'; disp = 'F8.4'\n",
      "    name = 'Conf_95_SemiMinor'; format = 'E'; unit = 'deg'; disp = 'F8.4'\n",
      "    name = 'Conf_95_PosAng'; format = 'E'; unit = 'deg'; disp = 'F8.3'\n",
      "    name = 'ROI_num'; format = 'I'; null = 16959\n",
      "    name = 'Extended_Source_Name'; format = '18A'\n",
      "    name = 'Signif_Avg'; format = 'E'; disp = 'F8.3'\n",
      "    name = 'Pivot_Energy'; format = 'E'; unit = 'MeV'; disp = 'F10.2'\n",
      "    name = 'Flux1000'; format = 'E'; unit = 'ph cm-2 s-1'; disp = 'E10.4'\n",
      "    name = 'Unc_Flux1000'; format = 'E'; unit = 'ph cm-2 s-1'; disp = 'E10.4'\n",
      "    name = 'Energy_Flux100'; format = 'E'; unit = 'erg cm-2 s-1'; disp = 'E10.4'\n",
      "    name = 'Unc_Energy_Flux100'; format = 'E'; unit = 'erg cm-2 s-1'; disp = 'E10.4'\n",
      "    name = 'SpectrumType'; format = '17A'\n",
      "    name = 'PL_Flux_Density'; format = 'E'; unit = 'ph cm-2 MeV-1 s-1'; disp = 'E10.4'\n",
      "    name = 'Unc_PL_Flux_Density'; format = 'E'; unit = 'ph cm-2 MeV-1 s-1'; disp = 'E10.4'\n",
      "    name = 'PL_Index'; format = 'E'; disp = 'F8.4'\n",
      "    name = 'Unc_PL_Index'; format = 'E'; disp = 'F8.4'\n",
      "    name = 'LP_Flux_Density'; format = 'E'; unit = 'ph cm-2 MeV-1 s-1'; disp = 'E10.4'\n",
      "    name = 'Unc_LP_Flux_Density'; format = 'E'; unit = 'ph cm-2 MeV-1 s-1'; disp = 'E10.4'\n",
      "    name = 'LP_Index'; format = 'E'; disp = 'F8.4'\n",
      "    name = 'Unc_LP_Index'; format = 'E'; disp = 'F8.4'\n",
      "    name = 'LP_beta'; format = 'E'; disp = 'F8.4'\n",
      "    name = 'Unc_LP_beta'; format = 'E'; disp = 'F8.4'\n",
      "    name = 'LP_SigCurv'; format = 'E'; disp = 'F8.3'\n",
      "    name = 'PLEC_Flux_Density'; format = 'E'; unit = 'ph cm-2 MeV-1 s-1'; disp = 'E10.4'\n",
      "    name = 'Unc_PLEC_Flux_Density'; format = 'E'; unit = 'ph cm-2 MeV-1 s-1'; disp = 'E10.4'\n",
      "    name = 'PLEC_Index'; format = 'E'; disp = 'F8.4'\n",
      "    name = 'Unc_PLEC_Index'; format = 'E'; disp = 'F8.4'\n",
      "    name = 'PLEC_Expfactor'; format = 'E'; disp = 'F8.5'\n",
      "    name = 'Unc_PLEC_Expfactor'; format = 'E'; disp = 'F8.5'\n",
      "    name = 'PLEC_Exp_Index'; format = 'E'; disp = 'F8.4'\n",
      "    name = 'Unc_PLEC_Exp_Index'; format = 'E'; disp = 'F8.4'\n",
      "    name = 'PLEC_SigCurv'; format = 'E'; disp = 'F8.3'\n",
      "    name = 'Npred'; format = 'E'; disp = 'F10.2'\n",
      "    name = 'Flux_Band'; format = '7E'; unit = 'ph cm-2 s-1'\n",
      "    name = 'Unc_Flux_Band'; format = '14E'; unit = 'ph cm-2 s-1'; dim = '( 2, 7)'\n",
      "    name = 'nuFnu_Band'; format = '7E'; unit = 'erg cm-2 s-1'\n",
      "    name = 'Sqrt_TS_Band'; format = '7E'\n",
      "    name = 'Variability_Index'; format = 'E'; disp = 'F10.4'\n",
      "    name = 'Frac_Variability'; format = 'E'; disp = 'F7.4'\n",
      "    name = 'Unc_Frac_Variability'; format = 'E'; disp = 'F7.4'\n",
      "    name = 'Signif_Peak'; format = 'E'; disp = 'F8.3'\n",
      "    name = 'Flux_Peak'; format = 'E'; unit = 'ph cm-2 s-1'\n",
      "    name = 'Unc_Flux_Peak'; format = 'E'; unit = 'ph cm-2 s-1'\n",
      "    name = 'Time_Peak'; format = 'D'; unit = 's'\n",
      "    name = 'Peak_Interval'; format = 'E'; unit = 's'\n",
      "    name = 'Flux_History'; format = '10E'; unit = 'ph cm-2 s-1'\n",
      "    name = 'Unc_Flux_History'; format = '20E'; unit = 'ph cm-2 s-1'; dim = '( 2, 10)'\n",
      "    name = 'Sqrt_TS_History'; format = '10E'\n",
      "    name = 'ASSOC_FGL'; format = '18A'\n",
      "    name = 'ASSOC_FHL'; format = '18A'\n",
      "    name = 'ASSOC_GAM1'; format = '18A'\n",
      "    name = 'ASSOC_GAM2'; format = '18A'\n",
      "    name = 'ASSOC_GAM3'; format = '18A'\n",
      "    name = 'TEVCAT_FLAG'; format = 'A'\n",
      "    name = 'ASSOC_TEV'; format = '26A'\n",
      "    name = 'CLASS1'; format = '5A'\n",
      "    name = 'CLASS2'; format = '5A'\n",
      "    name = 'ASSOC1'; format = '28A'\n",
      "    name = 'ASSOC2'; format = '26A'\n",
      "    name = 'ASSOC_PROB_BAY'; format = 'E'; disp = 'F6.4'\n",
      "    name = 'ASSOC_PROB_LR'; format = 'E'; disp = 'F6.4'\n",
      "    name = 'RA_Counterpart'; format = 'D'; unit = 'deg'; disp = 'F8.4'\n",
      "    name = 'DEC_Counterpart'; format = 'D'; unit = 'deg'; disp = 'F8.4'\n",
      "    name = 'Unc_Counterpart'; format = 'E'; unit = 'deg'; disp = 'F8.5'\n",
      "    name = 'Flags'; format = 'I'\n",
      ")\n"
     ]
    }
   ],
   "source": [
    "hdul = fits.open('data/gll_psc_v27.fit')\n",
    "#hdul.info()\n",
    "#print('\\n'.join(str(hdul[1].header).split(\"/\")))\n",
    "fgl_data = hdul[1].data\n",
    "\n",
    "print(fgl_data[\"ASSOC1\"])\n",
    "\n",
    "hdul.close()\n",
    "print(fgl_data.columns)"
   ]
  },
  {
   "cell_type": "code",
   "execution_count": 10,
   "metadata": {},
   "outputs": [],
   "source": [
    "# Functions to filter point sources I don't want to include in my analysis\n",
    "def excludeLatLong(excludeMask):\n",
    "    thisMask = np.ones(fgl_data.shape[0], dtype=bool)\n",
    "    thisMask = thisMask & ((fgl_data[\"GLON\"] < 20) | (fgl_data[\"GLON\"] > 340))\n",
    "    thisMask = thisMask & (((-20 < fgl_data[\"GLAT\"]) & (fgl_data[\"GLAT\"] < -2))\n",
    "        | ((2 < fgl_data[\"GLAT\"]) & (fgl_data[\"GLAT\"] < 20)))\n",
    "    return excludeMask & thisMask\n",
    "\n",
    "# Apply filters\n",
    "excludeMask = np.ones(fgl_data.shape[0], dtype=bool)\n",
    "excludeMask = excludeLatLong(excludeMask)\n",
    "\n",
    "fgl_data = fgl_data[excludeMask]"
   ]
  },
  {
   "cell_type": "code",
   "execution_count": 11,
   "metadata": {},
   "outputs": [
    {
     "name": "stdout",
     "output_type": "stream",
     "text": [
      "J1555-2908\n",
      "Removed due to distance\n",
      "J1624-4041\n",
      "J1624-39\n",
      "Removed due to distance\n",
      "J1649-3012\n",
      "Removed due to distance\n",
      "Removed extended source\n",
      "Removed due to distance\n",
      "J1727-1609\n",
      "Removed due to distance\n",
      "Removed due to distance\n",
      "Removed due to distance\n",
      "Removed due to distance\n",
      "Removed due to distance\n",
      "J1746-3239\n",
      "Removed due to distance\n",
      "Removed due to distance\n",
      "Removed due to distance\n",
      "J1813-1246\n",
      "Removed due to distance\n",
      "Removed due to distance\n",
      "Removed due to distance\n",
      "47 5\n"
     ]
    }
   ],
   "source": [
    "fluxes = []\n",
    "lats = []\n",
    "lons = []\n",
    "\n",
    "fluxes_extra = []\n",
    "lats_extra = []\n",
    "lons_extra = []\n",
    "\n",
    "names = []\n",
    "\n",
    "for row2 in distances.iterrows():\n",
    "    names.append(row2[1][\"Source_Name\"])\n",
    "names.sort()\n",
    "#[print(name) for name in names]\n",
    "#print()\n",
    "\n",
    "for row in fgl_data:\n",
    "    #print(row[\"Variability_Index\"])\n",
    "    #print(row[\"Frac_Variability\"])\n",
    "    \n",
    "    # Check: \"None of the sources that survive these cuts are classified as variable.\"\n",
    "\n",
    "    if not row[\"CLASS1\"] in ['', 'psr', 'PSR', 'unk', ]:#'spp', 'PWN']:\n",
    "        continue\n",
    "        \n",
    "    if abs(row[\"GLON\"]-342) < 1 and abs(row[\"GLAT\"]+2) < 1: # Extended source\n",
    "        print(\"Removed extended source\")\n",
    "        continue\n",
    "        \n",
    "    \n",
    "    #print(\"Row\", trunc_name)\n",
    "    if row[\"ASSOC1\"] != \"\" and row[\"ASSOC1\"][4:] in names:\n",
    "        print(\"Removed due to distance\")\n",
    "        continue\n",
    "        \n",
    "    '''cut_this_pulsar = False\n",
    "    name = row[\"Source_Name\"]\n",
    "    trunc_name = 'J' + str(int(float(name[6:12]))) + name[12:]\n",
    "    for row2 in distances.iterrows():\n",
    "        if trunc_name==row2[1][\"Source_Name\"]:\n",
    "            print(\"Name agreement\")\n",
    "            \n",
    "        DISTANCE_RADIUS = 0.35\n",
    "            \n",
    "        if abs(row2[1][\"GLON\"] - row[\"GLON\"]) < DISTANCE_RADIUS and abs(row2[1][\"GLAT\"] - row[\"GLAT\"]) < DISTANCE_RADIUS:\n",
    "            cut_this_pulsar = True\n",
    "            #print(row2[1][\"GLON\"] - row[\"GLON\"], row2[1][\"GLAT\"] - row[\"GLAT\"], row[\"Source_Name\"], row2[1][\"Source_Name\"])\n",
    "            break\n",
    "            \n",
    "    if cut_this_pulsar:\n",
    "        continue'''\n",
    "    \n",
    "        \n",
    "    if row[\"Source_Name\"] in list(fermi_data[\"Source_Name\"]):\n",
    "        if row[\"ASSOC1\"] != \"\":\n",
    "            print(row[\"ASSOC1\"][4:])\n",
    "        fluxes.append(row[\"Energy_Flux100\"])\n",
    "        lats.append(row[\"GLAT\"])\n",
    "        lons.append(row[\"GLON\"] if row[\"GLON\"] < 180 else row[\"GLON\"] - 360)\n",
    "    if row[\"Source_Name\"] in list(fermi_data_extra[\"Source_Name\"]):\n",
    "        fluxes_extra.append(row[\"Energy_Flux100\"])\n",
    "        lats_extra.append(row[\"GLAT\"])\n",
    "        lons_extra.append(row[\"GLON\"] if row[\"GLON\"] < 180 else row[\"GLON\"] - 360)\n",
    "        \n",
    "    # https://journals.aps.org/prl/supplemental/10.1103/PhysRevLett.124.231103/sm.pdf\n",
    "    \n",
    "fluxes = np.asarray(fluxes)\n",
    "fluxes_extra = np.asarray(fluxes_extra)\n",
    "\n",
    "print(len(fluxes), len(fluxes_extra))\n",
    "\n",
    "#print(distances[\"Source_Name\"])"
   ]
  },
  {
   "cell_type": "code",
   "execution_count": 16,
   "metadata": {},
   "outputs": [
    {
     "name": "stdout",
     "output_type": "stream",
     "text": [
      "3.3013558\n"
     ]
    },
    {
     "data": {
      "image/png": "[encoded data removed]",
      "text/plain": [
       "<Figure size 252x252 with 1 Axes>"
      ]
     },
     "metadata": {
      "needs_background": "light"
     },
     "output_type": "display_data"
    }
   ],
   "source": [
    "sizes = fluxes*2e12\n",
    "sizes_extra = fluxes_extra*2e12\n",
    "print(np.min(sizes))\n",
    "\n",
    "plt.figure(figsize=(3.5, 3.5))\n",
    "\n",
    "plt.fill_between([-21, 21], [2, 2], [-2, -2], color='k', alpha=0.3, label=\"Galactic disk cut\")\n",
    "plt.xlim(-21, 21)\n",
    "plt.scatter(lons, lats, s=sizes)\n",
    "plt.scatter(lons_extra, lats_extra, s=sizes_extra)\n",
    "plt.scatter([], [], label=\"0.3 deg cut\", color=\"C0\")\n",
    "plt.scatter([], [], label=\"0.55 deg cut\", color=\"C1\")\n",
    "plt.xlabel(\"Galactic Longitude (deg)\")\n",
    "plt.ylabel(\"Galactic Latitude (deg)\")\n",
    "plt.legend(loc='lower right')\n",
    "plt.savefig(\"all-sources.pdf\")"
   ]
  },
  {
   "cell_type": "code",
   "execution_count": 17,
   "metadata": {},
   "outputs": [
    {
     "name": "stdout",
     "output_type": "stream",
     "text": [
      "1.0731612e-12 1.3719972e-09\n"
     ]
    },
    {
     "data": {
      "text/plain": [
       "<matplotlib.legend.Legend at 0x7f14989d5430>"
      ]
     },
     "execution_count": 17,
     "metadata": {},
     "output_type": "execute_result"
    },
    {
     "data": {
      "image/png": "[encoded data removed]",
      "text/plain": [
       "<Figure size 234x144 with 1 Axes>"
      ]
     },
     "metadata": {
      "needs_background": "light"
     },
     "output_type": "display_data"
    }
   ],
   "source": [
    "fluxData = fgl_data[\"Energy_Flux100\"]\n",
    "print(np.min(fluxData), np.max(fluxData))\n",
    "bins = 10**np.linspace(start=np.log10(np.min(fluxData)), stop=np.log10(np.max(fluxData)), num=40)\n",
    "\n",
    "\n",
    "plt.hist(fluxData, bins=bins, label=\"All point sources\", color='C1')\n",
    "plt.xlabel(\"Flux received (ergs / cm$^2$ / s)\")\n",
    "plt.ylabel(\"Point source count\")\n",
    "plt.xscale('log')\n",
    "\n",
    "\n",
    "plt.hist(fluxes, bins=bins, color='black', label=\"Fermi sources 0.3 deg cut\");\n",
    "plt.hist(np.concatenate((fluxes, fluxes_extra)), bins=bins, color='black', fill=False, label=\"Fermi sources 0.55 deg cut\");\n",
    "\n",
    "plt.legend()"
   ]
  },
  {
   "cell_type": "code",
   "execution_count": 18,
   "metadata": {},
   "outputs": [
    {
     "name": "stdout",
     "output_type": "stream",
     "text": [
      "Sum of all visible fluxes: 5.9159294e-10\n",
      "Sum of all visible fluxes excluding the brightest: 3.4041164e-10\n",
      "Ratio of fluxes: 0.5754153\n"
     ]
    }
   ],
   "source": [
    "sorted_fluxes = fluxes.copy()\n",
    "sorted_fluxes.sort()\n",
    "print(\"Sum of all visible fluxes:\", np.sum(sorted_fluxes))\n",
    "print(\"Sum of all visible fluxes excluding the brightest:\", np.sum(sorted_fluxes[:-1]))\n",
    "print(\"Ratio of fluxes:\", np.sum(sorted_fluxes[:-1]) / np.sum(sorted_fluxes))"
   ]
  },
  {
   "cell_type": "markdown",
   "metadata": {},
   "source": [
    "# Predict histogram for each luminosity function"
   ]
  },
  {
   "cell_type": "code",
   "execution_count": 19,
   "metadata": {},
   "outputs": [
    {
     "name": "stdout",
     "output_type": "stream",
     "text": [
      "alpha = 1.94, L_min = 1e+29, L_max = 1e+35\n",
      "\n",
      "L0 = 8.8e+33, sigma = 0.62\n",
      "\n",
      "L0 = 1.6084e+32, sigma = 0.7003\n",
      "\n",
      "L_break = 8.65649e+33, n1 = -0.66, n2 = 18.2\n",
      "\n"
     ]
    },
    {
     "data": {
      "image/png": "[encoded data removed]",
      "text/plain": [
       "<Figure size 234x144 with 1 Axes>"
      ]
     },
     "metadata": {
      "needs_background": "light"
     },
     "output_type": "display_data"
    }
   ],
   "source": [
    "def display(data_file, label, color, style, normalize=True):\n",
    "    f = open(data_file)\n",
    "    header = f.readline()\n",
    "    print(header)\n",
    "    predicted_counts = np.asarray([float(i) for i in f.readline().split(\",\")[:-1]])\n",
    "    predicted_fluxes = np.asarray([float(i) for i in f.readline().split(\",\")[:-1]])\n",
    "    if normalize:\n",
    "        predicted_counts *= len(fluxes) / sum(predicted_counts)\n",
    "    f.close()\n",
    "\n",
    "    plt.plot(predicted_fluxes, predicted_counts, label=label, c=color, linestyle=style)\n",
    "    \n",
    "    plt.xlabel(\"Flux received (ergs / cm$^2$ / s)\")\n",
    "    plt.ylabel(\"Point source count\")\n",
    "    plt.xscale('log')\n",
    "    plt.legend()\n",
    "    \n",
    "display(\"../luminosity-models-position/data-1x/power-law/flux-hist.txt\", \"Power law\", 'C0', 'solid')\n",
    "display(\"../luminosity-models-position/data-1x/log-normal/flux-hist.txt\", \"Log normal\", 'C1', 'solid')\n",
    "display(\"../luminosity-models-position/data-1x/ploeg/flux-hist.txt\", \"Ploeg\", 'C6', 'dashed')\n",
    "display(\"../luminosity-models-position/data-1x/nptf/flux-hist.txt\", \"NPTF\", 'C5', 'dashed')\n",
    "plt.hist(fluxes, bins=bins, color=(0.8, 0.8, 0.8), label=\"Fermi sources 0.3 deg cut\")\n",
    "#plt.hist(fluxes, bins=bins, color='black', histtype='step')\n",
    "plt.hist(list(fluxes) + list(fluxes_extra), bins=bins, color='black', histtype='step', label=\"Fermi sources 0.55 deg cut\")\n",
    "plt.legend();\n",
    "plt.savefig(\"hist-fix-count.pdf\")"
   ]
  },
  {
   "cell_type": "code",
   "execution_count": 20,
   "metadata": {},
   "outputs": [
    {
     "name": "stdout",
     "output_type": "stream",
     "text": [
      "alpha = 1.94, L_min = 1e+29, L_max = 1e+35\n",
      "\n",
      "L0 = 8.8e+33, sigma = 0.62\n",
      "\n",
      "L0 = 1.6084e+32, sigma = 0.7003\n",
      "\n",
      "L_break = 8.65649e+33, n1 = -0.66, n2 = 18.2\n",
      "\n"
     ]
    },
    {
     "data": {
      "image/png": "[encoded data removed]",
      "text/plain": [
       "<Figure size 234x144 with 1 Axes>"
      ]
     },
     "metadata": {
      "needs_background": "light"
     },
     "output_type": "display_data"
    }
   ],
   "source": [
    "f = open(\"power-law-step/power-law-step.txt\", 'r')\n",
    "step_bins = [float(i) for i in f.readline().split(', ')[:-1]]\n",
    "step_fluxes = [float(i) for i in f.readline().split(', ')[:-1]]\n",
    "plt.plot(step_bins, step_fluxes, linestyle='dotted', color=\"C0\", label=\"Power law, crude sensitivity\")\n",
    "display(\"../luminosity-models-position/data-1x/power-law/flux-hist.txt\", \"Power law\", 'C0', 'solid', False)\n",
    "display(\"../luminosity-models-position/data-1x/log-normal/flux-hist.txt\", \"Log normal\", 'C1', 'solid', False)\n",
    "display(\"../luminosity-models-position/data-1x/ploeg/flux-hist.txt\", \"Ploeg\", 'C6', 'dashed', False)\n",
    "display(\"../luminosity-models-position/data-1x/nptf/flux-hist.txt\", \"NPTF\", 'C5', 'dashed', False)\n",
    "\n",
    "\n",
    "plt.hist(fluxes, bins=bins, color=(0.8, 0.8, 0.8), label=\"Fermi sources 0.3 deg cut\")\n",
    "#plt.hist(fluxes, bins=bins, color='black', histtype='step')\n",
    "plt.hist(list(fluxes) + list(fluxes_extra), bins=bins, color='black', histtype='step', label=\"Fermi sources 0.55 deg cut\")\n",
    "plt.legend();\n",
    "plt.ylim(0, 11)\n",
    "plt.savefig(\"hist-fix-flux.pdf\")"
   ]
  },
  {
   "cell_type": "code",
   "execution_count": 21,
   "metadata": {},
   "outputs": [
    {
     "name": "stdout",
     "output_type": "stream",
     "text": [
      "Comparisons are from the position-dependent case without the histogram breakdown.\n",
      "17.451424003139998 Compare 17.613695\n",
      "76.974802123 Compare 77.489204\n",
      "13.06202127447 Compare 13.406038\n",
      "7.3413045381287745 Compare 7.481112\n"
     ]
    }
   ],
   "source": [
    "def get_unscaled_count(data_file):\n",
    "    f = open(data_file)\n",
    "    header = f.readline()\n",
    "    predicted_counts = np.asarray([float(i) for i in f.readline().split(\",\")[:-1]])\n",
    "    f.close()\n",
    "    return np.sum(predicted_counts)\n",
    "\n",
    "print(\"Comparisons are from the position-dependent case without the histogram breakdown.\")\n",
    "print(get_unscaled_count(\"../luminosity-models-position/data-1x/power-law/flux-hist.txt\"), \"Compare 17.613695\")\n",
    "print(get_unscaled_count(\"../luminosity-models-position/data-1x/log-normal/flux-hist.txt\"), \"Compare 77.489204\")\n",
    "print(get_unscaled_count(\"../luminosity-models-position/data-1x/ploeg/flux-hist.txt\"), \"Compare 13.406038\")\n",
    "print(get_unscaled_count(\"../luminosity-models-position/data-1x/nptf/flux-hist.txt\"), \"Compare 7.481112\")"
   ]
  },
  {
   "cell_type": "code",
   "execution_count": 22,
   "metadata": {},
   "outputs": [
    {
     "name": "stdout",
     "output_type": "stream",
     "text": [
      "The GCE would have to be more luminous by\n",
      "2.6931899649875786\n",
      "0.610589422820438\n",
      "3.5982179949333344\n",
      "6.402131903927232\n"
     ]
    }
   ],
   "source": [
    "print(\"The GCE would have to be more luminous by\")\n",
    "print(len(fluxes) / get_unscaled_count(\"../luminosity-models-position/data-1x/power-law/flux-hist.txt\"))\n",
    "print(len(fluxes) / get_unscaled_count(\"../luminosity-models-position/data-1x/log-normal/flux-hist.txt\"))\n",
    "print(len(fluxes) / get_unscaled_count(\"../luminosity-models-position/data-1x/ploeg/flux-hist.txt\"))\n",
    "print(len(fluxes) / get_unscaled_count(\"../luminosity-models-position/data-1x/nptf/flux-hist.txt\"))"
   ]
  },
  {
   "cell_type": "code",
   "execution_count": null,
   "metadata": {},
   "outputs": [],
   "source": []
  }
 ],
 "metadata": {
  "kernelspec": {
   "display_name": "Python 3",
   "language": "python",
   "name": "python3"
  },
  "language_info": {
   "codemirror_mode": {
    "name": "ipython",
    "version": 3
   },
   "file_extension": ".py",
   "mimetype": "text/x-python",
   "name": "python",
   "nbconvert_exporter": "python",
   "pygments_lexer": "ipython3",
   "version": "3.8.5"
  }
 },
 "nbformat": 4,
 "nbformat_minor": 2
}
